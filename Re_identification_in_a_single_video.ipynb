{
  "cells": [
    {
      "cell_type": "code",
      "execution_count": 2,
      "metadata": {
        "colab": {
          "base_uri": "https://localhost:8080/"
        },
        "collapsed": true,
        "id": "-jMMHKr8MsNS",
        "outputId": "736a9685-4d6e-4896-83db-7874b348c560"
      },
      "outputs": [
        {
          "output_type": "stream",
          "name": "stdout",
          "text": [
            "Requirement already satisfied: ultralytics in /usr/local/lib/python3.11/dist-packages (8.3.163)\n",
            "Requirement already satisfied: opencv-python-headless in /usr/local/lib/python3.11/dist-packages (4.11.0.86)\n",
            "Requirement already satisfied: deep_sort_realtime in /usr/local/lib/python3.11/dist-packages (1.3.2)\n",
            "Requirement already satisfied: numpy>=1.23.0 in /usr/local/lib/python3.11/dist-packages (from ultralytics) (2.0.2)\n",
            "Requirement already satisfied: matplotlib>=3.3.0 in /usr/local/lib/python3.11/dist-packages (from ultralytics) (3.10.0)\n",
            "Requirement already satisfied: opencv-python>=4.6.0 in /usr/local/lib/python3.11/dist-packages (from ultralytics) (4.11.0.86)\n",
            "Requirement already satisfied: pillow>=7.1.2 in /usr/local/lib/python3.11/dist-packages (from ultralytics) (11.2.1)\n",
            "Requirement already satisfied: pyyaml>=5.3.1 in /usr/local/lib/python3.11/dist-packages (from ultralytics) (6.0.2)\n",
            "Requirement already satisfied: requests>=2.23.0 in /usr/local/lib/python3.11/dist-packages (from ultralytics) (2.32.3)\n",
            "Requirement already satisfied: scipy>=1.4.1 in /usr/local/lib/python3.11/dist-packages (from ultralytics) (1.15.3)\n",
            "Requirement already satisfied: torch>=1.8.0 in /usr/local/lib/python3.11/dist-packages (from ultralytics) (2.6.0+cu124)\n",
            "Requirement already satisfied: torchvision>=0.9.0 in /usr/local/lib/python3.11/dist-packages (from ultralytics) (0.21.0+cu124)\n",
            "Requirement already satisfied: tqdm>=4.64.0 in /usr/local/lib/python3.11/dist-packages (from ultralytics) (4.67.1)\n",
            "Requirement already satisfied: psutil in /usr/local/lib/python3.11/dist-packages (from ultralytics) (5.9.5)\n",
            "Requirement already satisfied: py-cpuinfo in /usr/local/lib/python3.11/dist-packages (from ultralytics) (9.0.0)\n",
            "Requirement already satisfied: pandas>=1.1.4 in /usr/local/lib/python3.11/dist-packages (from ultralytics) (2.2.2)\n",
            "Requirement already satisfied: ultralytics-thop>=2.0.0 in /usr/local/lib/python3.11/dist-packages (from ultralytics) (2.0.14)\n",
            "Requirement already satisfied: contourpy>=1.0.1 in /usr/local/lib/python3.11/dist-packages (from matplotlib>=3.3.0->ultralytics) (1.3.2)\n",
            "Requirement already satisfied: cycler>=0.10 in /usr/local/lib/python3.11/dist-packages (from matplotlib>=3.3.0->ultralytics) (0.12.1)\n",
            "Requirement already satisfied: fonttools>=4.22.0 in /usr/local/lib/python3.11/dist-packages (from matplotlib>=3.3.0->ultralytics) (4.58.4)\n",
            "Requirement already satisfied: kiwisolver>=1.3.1 in /usr/local/lib/python3.11/dist-packages (from matplotlib>=3.3.0->ultralytics) (1.4.8)\n",
            "Requirement already satisfied: packaging>=20.0 in /usr/local/lib/python3.11/dist-packages (from matplotlib>=3.3.0->ultralytics) (24.2)\n",
            "Requirement already satisfied: pyparsing>=2.3.1 in /usr/local/lib/python3.11/dist-packages (from matplotlib>=3.3.0->ultralytics) (3.2.3)\n",
            "Requirement already satisfied: python-dateutil>=2.7 in /usr/local/lib/python3.11/dist-packages (from matplotlib>=3.3.0->ultralytics) (2.9.0.post0)\n",
            "Requirement already satisfied: pytz>=2020.1 in /usr/local/lib/python3.11/dist-packages (from pandas>=1.1.4->ultralytics) (2025.2)\n",
            "Requirement already satisfied: tzdata>=2022.7 in /usr/local/lib/python3.11/dist-packages (from pandas>=1.1.4->ultralytics) (2025.2)\n",
            "Requirement already satisfied: charset-normalizer<4,>=2 in /usr/local/lib/python3.11/dist-packages (from requests>=2.23.0->ultralytics) (3.4.2)\n",
            "Requirement already satisfied: idna<4,>=2.5 in /usr/local/lib/python3.11/dist-packages (from requests>=2.23.0->ultralytics) (3.10)\n",
            "Requirement already satisfied: urllib3<3,>=1.21.1 in /usr/local/lib/python3.11/dist-packages (from requests>=2.23.0->ultralytics) (2.4.0)\n",
            "Requirement already satisfied: certifi>=2017.4.17 in /usr/local/lib/python3.11/dist-packages (from requests>=2.23.0->ultralytics) (2025.6.15)\n",
            "Requirement already satisfied: filelock in /usr/local/lib/python3.11/dist-packages (from torch>=1.8.0->ultralytics) (3.18.0)\n",
            "Requirement already satisfied: typing-extensions>=4.10.0 in /usr/local/lib/python3.11/dist-packages (from torch>=1.8.0->ultralytics) (4.14.0)\n",
            "Requirement already satisfied: networkx in /usr/local/lib/python3.11/dist-packages (from torch>=1.8.0->ultralytics) (3.5)\n",
            "Requirement already satisfied: jinja2 in /usr/local/lib/python3.11/dist-packages (from torch>=1.8.0->ultralytics) (3.1.6)\n",
            "Requirement already satisfied: fsspec in /usr/local/lib/python3.11/dist-packages (from torch>=1.8.0->ultralytics) (2025.3.2)\n",
            "Requirement already satisfied: nvidia-cuda-nvrtc-cu12==12.4.127 in /usr/local/lib/python3.11/dist-packages (from torch>=1.8.0->ultralytics) (12.4.127)\n",
            "Requirement already satisfied: nvidia-cuda-runtime-cu12==12.4.127 in /usr/local/lib/python3.11/dist-packages (from torch>=1.8.0->ultralytics) (12.4.127)\n",
            "Requirement already satisfied: nvidia-cuda-cupti-cu12==12.4.127 in /usr/local/lib/python3.11/dist-packages (from torch>=1.8.0->ultralytics) (12.4.127)\n",
            "Requirement already satisfied: nvidia-cudnn-cu12==9.1.0.70 in /usr/local/lib/python3.11/dist-packages (from torch>=1.8.0->ultralytics) (9.1.0.70)\n",
            "Requirement already satisfied: nvidia-cublas-cu12==12.4.5.8 in /usr/local/lib/python3.11/dist-packages (from torch>=1.8.0->ultralytics) (12.4.5.8)\n",
            "Requirement already satisfied: nvidia-cufft-cu12==11.2.1.3 in /usr/local/lib/python3.11/dist-packages (from torch>=1.8.0->ultralytics) (11.2.1.3)\n",
            "Requirement already satisfied: nvidia-curand-cu12==10.3.5.147 in /usr/local/lib/python3.11/dist-packages (from torch>=1.8.0->ultralytics) (10.3.5.147)\n",
            "Requirement already satisfied: nvidia-cusolver-cu12==11.6.1.9 in /usr/local/lib/python3.11/dist-packages (from torch>=1.8.0->ultralytics) (11.6.1.9)\n",
            "Requirement already satisfied: nvidia-cusparse-cu12==12.3.1.170 in /usr/local/lib/python3.11/dist-packages (from torch>=1.8.0->ultralytics) (12.3.1.170)\n",
            "Requirement already satisfied: nvidia-cusparselt-cu12==0.6.2 in /usr/local/lib/python3.11/dist-packages (from torch>=1.8.0->ultralytics) (0.6.2)\n",
            "Requirement already satisfied: nvidia-nccl-cu12==2.21.5 in /usr/local/lib/python3.11/dist-packages (from torch>=1.8.0->ultralytics) (2.21.5)\n",
            "Requirement already satisfied: nvidia-nvtx-cu12==12.4.127 in /usr/local/lib/python3.11/dist-packages (from torch>=1.8.0->ultralytics) (12.4.127)\n",
            "Requirement already satisfied: nvidia-nvjitlink-cu12==12.4.127 in /usr/local/lib/python3.11/dist-packages (from torch>=1.8.0->ultralytics) (12.4.127)\n",
            "Requirement already satisfied: triton==3.2.0 in /usr/local/lib/python3.11/dist-packages (from torch>=1.8.0->ultralytics) (3.2.0)\n",
            "Requirement already satisfied: sympy==1.13.1 in /usr/local/lib/python3.11/dist-packages (from torch>=1.8.0->ultralytics) (1.13.1)\n",
            "Requirement already satisfied: mpmath<1.4,>=1.1.0 in /usr/local/lib/python3.11/dist-packages (from sympy==1.13.1->torch>=1.8.0->ultralytics) (1.3.0)\n",
            "Requirement already satisfied: six>=1.5 in /usr/local/lib/python3.11/dist-packages (from python-dateutil>=2.7->matplotlib>=3.3.0->ultralytics) (1.17.0)\n",
            "Requirement already satisfied: MarkupSafe>=2.0 in /usr/local/lib/python3.11/dist-packages (from jinja2->torch>=1.8.0->ultralytics) (3.0.2)\n"
          ]
        }
      ],
      "source": [
        "!pip install ultralytics opencv-python-headless deep_sort_realtime"
      ]
    },
    {
      "cell_type": "code",
      "execution_count": 3,
      "metadata": {
        "id": "AWDMi-ziUeVM"
      },
      "outputs": [],
      "source": [
        "import cv2\n",
        "import torch\n",
        "import numpy as np\n",
        "import os\n",
        "from ultralytics import YOLO\n",
        "from deep_sort_realtime.deepsort_tracker import DeepSort\n",
        "from collections import defaultdict"
      ]
    },
    {
      "cell_type": "code",
      "execution_count": 4,
      "metadata": {
        "id": "Oy6x2WLMN4VC"
      },
      "outputs": [],
      "source": [
        "video_path = '/content/15sec_input_720p.mp4'\n",
        "model_path = \"/content/best.pt\"\n",
        "output_path = \"/content/output_with_ids.mp4\""
      ]
    },
    {
      "cell_type": "code",
      "execution_count": 5,
      "metadata": {
        "id": "qqri4pUXWRXT"
      },
      "outputs": [],
      "source": [
        "from google.colab.patches import cv2_imshow"
      ]
    },
    {
      "cell_type": "code",
      "execution_count": 6,
      "metadata": {
        "id": "jlwJq4mIa1lb"
      },
      "outputs": [],
      "source": [
        "input_path=\"/content/15sec_input_720p.mp4\""
      ]
    },
    {
      "cell_type": "code",
      "execution_count": 7,
      "metadata": {
        "id": "9iwvj87ncyQL"
      },
      "outputs": [],
      "source": [
        "from google.colab.patches import cv2_imshow"
      ]
    },
    {
      "cell_type": "code",
      "source": [
        "CONFIG = {\n",
        "    'model_path': '/content/best.pt',\n",
        "    'video_path': '/content/15sec_input_720p.mp4',\n",
        "    'output_video_path': '/content/output_with_ids.mp4',\n",
        "    'temp_frames_dir': 'temp_frames',\n",
        "    'conf_threshold': 0.5,\n",
        "    'iou_threshold': 0.4,\n",
        "    'max_age': 60,\n",
        "    'n_init': 5,\n",
        "    'max_cosine_distance': 0.4,\n",
        "    'frame_skip': 0,\n",
        "    'device': 'cuda' if torch.cuda.is_available() else 'cpu',\n",
        "    'show_output': True\n",
        "}\n",
        "\n",
        "class PlayerTracker:\n",
        "    def __init__(self, config):\n",
        "        self.config = config\n",
        "        self.model = YOLO(config['model_path']).to(config['device'])\n",
        "        self.tracker = DeepSort(\n",
        "            max_age=config['max_age'],\n",
        "            n_init=config['n_init'],\n",
        "            max_cosine_distance=config['max_cosine_distance'],\n",
        "            nn_budget=None,\n",
        "            embedder=\"mobilenet\",\n",
        "            half=True,\n",
        "            embedder_gpu=True\n",
        "        )\n",
        "        self.id_colors = {}\n",
        "        self.frame_buffer = []\n",
        "        os.makedirs(config['temp_frames_dir'], exist_ok=True)\n",
        "\n",
        "    def get_color(self, track_id):\n",
        "        if track_id not in self.id_colors:\n",
        "            self.id_colors[track_id] = tuple(np.random.randint(0, 255, 3).tolist())\n",
        "        return self.id_colors[track_id]\n",
        "\n",
        "    def process_video(self):\n",
        "        cap = cv2.VideoCapture(self.config['video_path'])\n",
        "        if not cap.isOpened():\n",
        "            print(\"Error: Could not open video.\")\n",
        "            return False\n",
        "        frame_width = int(cap.get(cv2.CAP_PROP_FRAME_WIDTH))\n",
        "        frame_height = int(cap.get(cv2.CAP_PROP_FRAME_HEIGHT))\n",
        "        fps = cap.get(cv2.CAP_PROP_FPS)\n",
        "        total_frames = int(cap.get(cv2.CAP_PROP_FRAME_COUNT))\n",
        "\n",
        "        print(f\"\\nProcessing video: {self.config['video_path']}\")\n",
        "        print(f\"Resolution: {frame_width}x{frame_height} at {fps:.2f} FPS\")\n",
        "        print(f\"Total frames: {total_frames}\")\n",
        "        print(f\"Using device: {self.config['device']}\\n\")\n",
        "\n",
        "        frame_count = 0\n",
        "        processed_count = 0\n",
        "        processing_times = []\n",
        "\n",
        "        while cap.isOpened():\n",
        "            ret, frame = cap.read()\n",
        "            if not ret:\n",
        "                break\n",
        "\n",
        "            frame_count += 1\n",
        "            if self.config['frame_skip'] > 0 and frame_count % (self.config['frame_skip'] + 1) != 0:\n",
        "                continue\n",
        "\n",
        "            start_time = cv2.getTickCount()\n",
        "\n",
        "            results = self.model.predict(\n",
        "                frame,\n",
        "                conf=self.config['conf_threshold'],\n",
        "                iou=self.config['iou_threshold'],\n",
        "                device=self.config['device'],\n",
        "                verbose=False\n",
        "            )\n",
        "\n",
        "            boxes = results[0].boxes.xyxy.cpu().numpy() if results[0].boxes is not None else []\n",
        "            confs = results[0].boxes.conf.cpu().numpy() if results[0].boxes is not None else []\n",
        "            class_ids = results[0].boxes.cls.cpu().numpy() if results[0].boxes is not None else []\n",
        "\n",
        "            detections = []\n",
        "            for box, conf, class_id in zip(boxes, confs, class_ids):\n",
        "                x1, y1, x2, y2 = box\n",
        "                w, h = x2 - x1, y2 - y1\n",
        "                detections.append(([x1, y1, w, h], conf, int(class_id)))\n",
        "\n",
        "            tracks = self.tracker.update_tracks(detections, frame=frame)\n",
        "\n",
        "            for track in tracks:\n",
        "                if not track.is_confirmed():\n",
        "                    continue\n",
        "\n",
        "                track_id = str(track.track_id)\n",
        "                l, t, w, h = track.to_ltrb()\n",
        "                bbox = tuple(map(int, (l, t, w, h)))\n",
        "                color = self.get_color(track_id)\n",
        "\n",
        "                cv2.rectangle(frame, (bbox[0], bbox[1]), (bbox[0]+bbox[2], bbox[1]+bbox[3]), color, 2)\n",
        "                cv2.putText(frame, f'ID: {track_id}', (bbox[0], bbox[1]-10),\n",
        "                            cv2.FONT_HERSHEY_SIMPLEX, 0.6, color, 2)\n",
        "\n",
        "            processing_time = (cv2.getTickCount() - start_time) / cv2.getTickFrequency()\n",
        "            processing_times.append(processing_time)\n",
        "\n",
        "            fps_text = f'FPS: {1/processing_time:.2f}' if processing_time > 0 else 'FPS: -'\n",
        "            cv2.putText(frame, fps_text, (10, 30), cv2.FONT_HERSHEY_SIMPLEX, 0.7, (0, 0, 255), 2)\n",
        "            cv2.putText(frame, f'Frame: {frame_count}/{total_frames}', (10, 60),\n",
        "                        cv2.FONT_HERSHEY_SIMPLEX, 0.7, (0, 0, 255), 2)\n",
        "\n",
        "            frame_path = os.path.join(self.config['temp_frames_dir'], f\"frame_{frame_count:06d}.jpg\")\n",
        "            cv2.imwrite(frame_path, frame)\n",
        "            processed_count += 1\n",
        "\n",
        "            # if self.config['show_output']:\n",
        "            #     cv2_imshow(frame)\n",
        "            #     if cv2.waitKey(1) & 0xFF == ord('q'):\n",
        "            #         break\n",
        "\n",
        "        cap.release()\n",
        "        self.merge_frames_to_video(frame_width, frame_height, fps)\n",
        "\n",
        "        if processing_times:\n",
        "            avg_time = np.mean(processing_times)\n",
        "            print(f\"\\nProcessing complete!\")\n",
        "            print(f\"Processed {processed_count} frames\")\n",
        "            print(f\"Average processing time: {avg_time:.4f}s (~{1/avg_time:.2f} FPS)\")\n",
        "            print(f\"Tracked {len(self.id_colors)} unique players\")\n",
        "            print(f\"Output video saved to: {self.config['output_video_path']}\")\n",
        "\n",
        "        return True\n",
        "\n",
        "    def merge_frames_to_video(self, width, height, fps):\n",
        "        \"\"\"Combine all processed frames into a video file\"\"\"\n",
        "        print(\"\\nMerging frames into video...\")\n",
        "\n",
        "        frame_files = sorted([\n",
        "            f for f in os.listdir(self.config['temp_frames_dir'])\n",
        "            if f.startswith('frame_') and f.endswith('.jpg')\n",
        "        ])\n",
        "\n",
        "        if not frame_files:\n",
        "            print(\"No frames found to merge!\")\n",
        "            return False\n",
        "\n",
        "        fourcc = cv2.VideoWriter_fourcc(*'mp4v')\n",
        "        out = cv2.VideoWriter(\n",
        "            self.config['output_video_path'],\n",
        "            fourcc,\n",
        "            fps,\n",
        "            (width, height)\n",
        "        )\n",
        "        for frame_file in frame_files:\n",
        "            frame_path = os.path.join(self.config['temp_frames_dir'], frame_file)\n",
        "            frame = cv2.imread(frame_path)\n",
        "            if frame is not None:\n",
        "                out.write(frame)\n",
        "        out.release()\n",
        "\n",
        "        for frame_file in frame_files:\n",
        "            os.remove(os.path.join(self.config['temp_frames_dir'], frame_file))\n",
        "        os.rmdir(self.config['temp_frames_dir'])\n",
        "\n",
        "        return True\n",
        "\n",
        "if __name__ == \"__main__\":\n",
        "    tracker = PlayerTracker(CONFIG)\n",
        "    tracker.process_video()\n"
      ],
      "metadata": {
        "colab": {
          "base_uri": "https://localhost:8080/"
        },
        "id": "1G9Ez0BOcOCE",
        "outputId": "ec509101-cfcf-41e4-e04a-0f4ab04a3a9a"
      },
      "execution_count": 8,
      "outputs": [
        {
          "output_type": "stream",
          "name": "stdout",
          "text": [
            "\n",
            "Processing video: /content/15sec_input_720p.mp4\n",
            "Resolution: 1280x720 at 25.00 FPS\n",
            "Total frames: 375\n",
            "Using device: cuda\n",
            "\n",
            "\n",
            "Merging frames into video...\n",
            "\n",
            "Processing complete!\n",
            "Processed 375 frames\n",
            "Average processing time: 0.1504s (~6.65 FPS)\n",
            "Tracked 58 unique players\n",
            "Output video saved to: /content/output_with_ids.mp4\n"
          ]
        }
      ]
    },
    {
      "cell_type": "code",
      "source": [],
      "metadata": {
        "id": "mRhsFCZ0dkbt"
      },
      "execution_count": 8,
      "outputs": []
    }
  ],
  "metadata": {
    "accelerator": "GPU",
    "colab": {
      "gpuType": "T4",
      "provenance": []
    },
    "kernelspec": {
      "display_name": "Python 3",
      "name": "python3"
    },
    "language_info": {
      "name": "python"
    }
  },
  "nbformat": 4,
  "nbformat_minor": 0
}